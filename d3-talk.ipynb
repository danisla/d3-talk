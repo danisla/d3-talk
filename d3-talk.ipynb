{
 "cells": [
  {
   "cell_type": "markdown",
   "metadata": {
    "collapsed": true,
    "slideshow": {
     "slide_type": "slide"
    }
   },
   "source": [
    "# D3.js Intro\n",
    "---\n",
    "\n",
    "**Code-District Meetup**\n",
    "\n",
    "Dan Isla  \n",
    "Data Scientist at JPL  \n",
    "July 9, 2015  \n",
    "https://github.com/danisla/d3-talk  \n",
    "\n",
    "<img src=\"images/d3_logo.png\">"
   ]
  },
  {
   "cell_type": "markdown",
   "metadata": {
    "collapsed": true,
    "slideshow": {
     "slide_type": "slide"
    }
   },
   "source": [
    "# About Me\n",
    "---\n",
    "<img src=\"images/dan-photo.png\" align=\"center\" width=\"100%\" />"
   ]
  },
  {
   "cell_type": "markdown",
   "metadata": {
    "collapsed": true,
    "slideshow": {
     "slide_type": "slide"
    }
   },
   "source": [
    "# Showcase some of our visualizations\n",
    "---\n",
    "\n",
    "Visit us at the IT Data Science web site:\n",
    "\n",
    "http://itds.jpl.nasa.gov/"
   ]
  },
  {
   "cell_type": "markdown",
   "metadata": {
    "collapsed": true,
    "slideshow": {
     "slide_type": "slide"
    }
   },
   "source": [
    "# What is D3.js\n",
    "---\n"
   ]
  },
  {
   "cell_type": "markdown",
   "metadata": {
    "collapsed": true,
    "slideshow": {
     "slide_type": "subslide"
    }
   },
   "source": [
    "<img src=\"images/d3_family.png\">"
   ]
  },
  {
   "cell_type": "markdown",
   "metadata": {
    "collapsed": true,
    "slideshow": {
     "slide_type": "notes"
    }
   },
   "source": [
    "- Library not framework\n",
    "- Created by Standford student in the Visualization group, Mike Bostock\n",
    "- Wanted a more usable plotting library compared to the existing alternatives that was built on modern tech and flexible enough to do anything"
   ]
  },
  {
   "cell_type": "markdown",
   "metadata": {
    "collapsed": true,
    "slideshow": {
     "slide_type": "slide"
    }
   },
   "source": [
    "# Creating document structure\n",
    "---\n"
   ]
  },
  {
   "cell_type": "markdown",
   "metadata": {
    "collapsed": true,
    "slideshow": {
     "slide_type": "subslide"
    }
   },
   "source": [
    "## Getting D3\n",
    "\n",
    "Get from CDN:\n",
    "\n",
    "https://cdnjs.cloudflare.com/ajax/libs/d3/3.5.5/d3.min.js\n",
    "\n",
    "Get via Bower:\n",
    "\n",
    "```\n",
    "bower install d3\n",
    "```\n",
    "\n",
    "Get via npm\n",
    "\n",
    "```\n",
    "npm install d3\n",
    "```\n",
    "\n",
    "Github wiki: https://github.com/mbostock/d3/wiki/API-Reference"
   ]
  },
  {
   "cell_type": "markdown",
   "metadata": {
    "collapsed": true,
    "slideshow": {
     "slide_type": "subslide"
    }
   },
   "source": [
    "### Skeleton DOM for Visualization\n",
    "---\n",
    "\n",
    "```html\n",
    "<html>\n",
    "    <head>\n",
    "      <link rel=\"stylesheet\" type=\"text/css\" href=\"style.css\">\n",
    "      <script src=\"https://cdnjs.cloudflare.com/ajax/libs/d3/3.5.5/d3.min.js\"></script>\n",
    "      <script src=\"script.js\"></script>\n",
    "    </head>\n",
    "    <body>\n",
    "        <h1>D3</h1>\n",
    "        <div id=\"chart\"></div>\n",
    "    </body>\n",
    "</html>\n",
    "```"
   ]
  },
  {
   "cell_type": "markdown",
   "metadata": {
    "collapsed": true,
    "slideshow": {
     "slide_type": "subslide"
    }
   },
   "source": [
    "## Solarized stylesheet compiled from .scss\n",
    "\n",
    "Source: http://ethanschoonover.com/solarized\n",
    "\n",
    "---\n",
    "\n",
    "\n",
    "```css\n",
    "/* light is default mode, so pair with general html definition */\n",
    "html, .light {\n",
    "  background-color: #fdf6e3;\n",
    "  color: #657b83; }\n",
    "  html *, .light * {\n",
    "    color: #657b83; }\n",
    "  html h1, html h2, html h3, html h4, html h5, html h6, .light h1, .light h2, .light h3, .light h4, .light h5, .light h6 {\n",
    "    color: #586e75;\n",
    "    border-color: #657b83; }\n",
    "  html a, html a:active, html a:visited, .light a, .light a:active, .light a:visited {\n",
    "    color: #586e75; }\n",
    "\n",
    ".dark {\n",
    "  background-color: #002b36;\n",
    "  color: #839496; }\n",
    "  .dark * {\n",
    "    color: #839496; }\n",
    "  .dark h1, .dark h2, .dark h3, .dark h4, .dark h5, .dark h6 {\n",
    "    color: #93a1a1;\n",
    "    border-color: #839496; }\n",
    "  .dark a, .dark a:active, .dark a:visited {\n",
    "    color: #93a1a1; }\n",
    "\n",
    "html * {\n",
    "  color-profile: sRGB;\n",
    "  rendering-intent: auto; }\n",
    "\n",
    "/*# sourceMappingURL=style.css.map */\n",
    "\n",
    "```"
   ]
  },
  {
   "cell_type": "markdown",
   "metadata": {
    "collapsed": true,
    "slideshow": {
     "slide_type": "subslide"
    }
   },
   "source": [
    "### Experiment using codepen.io\n",
    "---\n",
    "\n",
    "http://codepen.io/\n",
    "\n",
    "- Great for simple editor and instant feedback of changes."
   ]
  },
  {
   "cell_type": "markdown",
   "metadata": {
    "collapsed": true,
    "slideshow": {
     "slide_type": "slide"
    }
   },
   "source": [
    "# Controlling HTML DOM Elements\n",
    "---\n"
   ]
  },
  {
   "cell_type": "markdown",
   "metadata": {
    "collapsed": true,
    "slideshow": {
     "slide_type": "notes"
    }
   },
   "source": [
    "- Similar to CSS selectors.\n",
    "- Use the `d3.select` method to create selections.\n",
    "- Go over several select examples.\n",
    "- Talk about how chaining\n",
    "- Show example of styling and toggling classes with the `.classed`"
   ]
  },
  {
   "cell_type": "markdown",
   "metadata": {
    "collapsed": true,
    "slideshow": {
     "slide_type": "subslide"
    }
   },
   "source": [
    "### Change style of elements on the page\n",
    "\n",
    "- Chained method calls\n",
    "\n",
    "---\n",
    "\n",
    "```js\n",
    "d3.select(\"h1\")\n",
    "    .style(\"font-size\",\"48px\")\n",
    "    .style(\"color\",\"#2aa198\")\n",
    "```"
   ]
  },
  {
   "cell_type": "markdown",
   "metadata": {
    "collapsed": true,
    "slideshow": {
     "slide_type": "subslide"
    }
   },
   "source": [
    "### Change text of elements\n",
    "---\n",
    "\n",
    "```js\n",
    "d3.select(\"h1\")\n",
    "    .text(\"Hello D3\")\n",
    "```"
   ]
  },
  {
   "cell_type": "markdown",
   "metadata": {
    "collapsed": true,
    "slideshow": {
     "slide_type": "subslide"
    }
   },
   "source": [
    "### Add elements to the page\n",
    "---\n",
    "\n",
    "```js\n",
    "d3.select(\"body\")\n",
    "    .append(\"img\")\n",
    "    .attr(\"width\",\"400px\")\n",
    "    .attr(\"src\", \"http://apod.nasa.gov/apod/image/1507/2015Jul8_plutoNH_nasajhuaplswri950.jpg\")\n",
    "```"
   ]
  },
  {
   "cell_type": "markdown",
   "metadata": {
    "collapsed": true,
    "slideshow": {
     "slide_type": "slide"
    }
   },
   "source": [
    "# Binding data to the DOM\n",
    "---"
   ]
  },
  {
   "cell_type": "markdown",
   "metadata": {
    "collapsed": true,
    "slideshow": {
     "slide_type": "subslide"
    }
   },
   "source": [
    "## Bind from Javascript Data Structures\n",
    "---\n",
    "\n",
    "- Use the `.data` method to bind data to a selection.\n",
    "- Use the `.enter` method to select \"placeholder\" elements that will be added in the future.\n",
    "\n",
    "---\n",
    "\n",
    "```js\n",
    "d3.selectAll(\".item\")\n",
    "    .data([\"Earth\",\"Mars\",\"Saturn\",\"Jupiter\"])\n",
    "    .enter()\n",
    "    .append(\"div\").classed(\"item\",true)\n",
    "    .text(function(d,i) { \n",
    "      return d;\n",
    "    })\n",
    "```\n"
   ]
  },
  {
   "cell_type": "markdown",
   "metadata": {
    "collapsed": true,
    "slideshow": {
     "slide_type": "subslide"
    }
   },
   "source": [
    "## More Complex Data Structures\n",
    "---\n",
    "\n",
    "- Use the function alternatives for method arguments to transform data.\n",
    "\n",
    "---\n",
    "\n",
    "```js\n",
    "d3.select(\"h1\").text(\"Relative Planet Sizes in our Solar System ... and Pluto\")\n",
    "```"
   ]
  },
  {
   "cell_type": "markdown",
   "metadata": {
    "collapsed": true,
    "slideshow": {
     "slide_type": "subslide"
    }
   },
   "source": [
    "```js\n",
    "var data = [\n",
    "      {name: \"Mercury\", color: \"#839496\", radius: 1516},\n",
    "      {name: \"Venus\", color: \"#b58900\", radius: 3760},\n",
    "      {name: \"Earth\", color: \"#268bd2\", radius: 3963},\n",
    "      {name: \"Mars\", color: \"#dc322f\", radius: 2110},\n",
    "      {name: \"Jupiter\", color: \"#d33682\", radius: 44423},\n",
    "      {name: \"Saturn\", color: \"#b58900\", radius: 37449},\n",
    "      {name: \"Uranus\", color: \"#586e75 \", radius: 15882},\n",
    "      {name: \"Neptune\", color: \"#268bd2 \", radius: 15882},\n",
    "      {name: \"Pluto\", color: \"#b58900\", radius: 715},\n",
    "    ]\n",
    "```"
   ]
  },
  {
   "cell_type": "markdown",
   "metadata": {
    "collapsed": true,
    "slideshow": {
     "slide_type": "subslide"
    }
   },
   "source": [
    "Add the items and their text to the DOM\n",
    "\n",
    "---\n",
    "\n",
    "```js\n",
    "d3.selectAll(\".item\")\n",
    "    .data(data)\n",
    "    .enter()\n",
    "    .append(\"div\").classed(\"item\", true)\n",
    "    .style(\"font-size\", \"24px\")\n",
    "    .text(function(d) { \n",
    "      return d.name;\n",
    "    })\n",
    "```"
   ]
  },
  {
   "cell_type": "markdown",
   "metadata": {
    "collapsed": true,
    "slideshow": {
     "slide_type": "subslide"
    }
   },
   "source": [
    "Use CSS styling to visualize the data \n",
    "\n",
    "---\n",
    "\n",
    "```js\n",
    ".style(\"color\", \"white\")\n",
    ".style(\"background-color\": function(d) { \n",
    "    return d.color \n",
    "})\n",
    ".style(\"width\": function(d) { \n",
    "    return (d.radius/10) + \"px\" \n",
    "})\n",
    "```"
   ]
  },
  {
   "cell_type": "markdown",
   "metadata": {
    "collapsed": true,
    "slideshow": {
     "slide_type": "subslide"
    }
   },
   "source": [
    "<img src=\"images/planet_sizes_0.png\">"
   ]
  },
  {
   "cell_type": "markdown",
   "metadata": {
    "collapsed": true,
    "slideshow": {
     "slide_type": "slide"
    }
   },
   "source": [
    "# Drawing SVG graphics with D3\n",
    "---\n",
    "\n",
    "<img src=\"images/svg_logo.png\" width=\"150px\">"
   ]
  },
  {
   "cell_type": "markdown",
   "metadata": {
    "collapsed": true,
    "slideshow": {
     "slide_type": "subslide"
    }
   },
   "source": [
    "### What is SVG?\n",
    "---\n",
    "\n",
    "- Scalable Vector Graphics - SVG\n",
    "- html and css-like markup of graphics elements.\n",
    "- Programatic definitions via JS and event binding for interactions and transitions.\n",
    "- Portable and consistent rendering across devices."
   ]
  },
  {
   "cell_type": "markdown",
   "metadata": {
    "collapsed": true,
    "slideshow": {
     "slide_type": "subslide"
    }
   },
   "source": [
    "### SVG Basics\n",
    "---\n",
    "\n",
    "- `rect`: Rectangle with attributes `x`, `y`, `width`, and `height`\n",
    "- `circle`: Circle with attributes: `cx`, `cy`, and `r`\n",
    "- Coordinate system starts from the top left"
   ]
  },
  {
   "cell_type": "markdown",
   "metadata": {
    "collapsed": true,
    "slideshow": {
     "slide_type": "subslide"
    }
   },
   "source": [
    "### SVG Hello World\n",
    "---\n",
    "\n",
    "```html\n",
    "<svg width=400 height=300>\n",
    "  <circle cx=\"20\" cy=\"20\" r=\"10\"/>\n",
    "</svg>\n",
    "```\n",
    "\n",
    "Add a border to the SVG box:\n",
    "\n",
    "```css\n",
    "svg {\n",
    "  border-width: 1px;\n",
    "  border-style: solid;\n",
    "}\n",
    "```"
   ]
  },
  {
   "cell_type": "markdown",
   "metadata": {
    "collapsed": true,
    "slideshow": {
     "slide_type": "subslide"
    }
   },
   "source": [
    "### SVG Hello World with D3\n",
    "---\n",
    "\n",
    "```js\n",
    "d3.select(\"h1\").text(\"SVG Hello World\")\n",
    "\n",
    "d3.select(\"#chart\")\n",
    "    .append(\"svg\")\n",
    "      .attr(\"width\",600)\n",
    "      .attr(\"height\", 400)\n",
    "```"
   ]
  },
  {
   "cell_type": "markdown",
   "metadata": {
    "collapsed": true,
    "slideshow": {
     "slide_type": "subslide"
    }
   },
   "source": [
    "Add the first shape, a rectangle.\n",
    "\n",
    "---\n",
    "\n",
    "```js\n",
    ".append(\"rect\")\n",
    "  .attr(\"x\", 0)\n",
    "  .attr(\"y\", 0)\n",
    "  .attr(\"width\", 200)\n",
    "  .attr(\"height\", 200)\n",
    "  .attr(\"fill\",\"#002b36\")\n",
    "```"
   ]
  },
  {
   "cell_type": "markdown",
   "metadata": {
    "collapsed": true,
    "slideshow": {
     "slide_type": "subslide"
    }
   },
   "source": [
    "Add a circle inside the rectangle.\n",
    "\n",
    "---\n",
    "\n",
    "```js\n",
    "d3.select(\"svg\")\n",
    "  .append(\"circle\")\n",
    "  .attr(\"cx\", 100)\n",
    "  .attr(\"cy\", 100)\n",
    "  .attr(\"r\", 100)\n",
    "  .attr(\"fill\", \"#268bd2\")\n",
    "```"
   ]
  },
  {
   "cell_type": "markdown",
   "metadata": {
    "collapsed": true,
    "slideshow": {
     "slide_type": "subslide"
    }
   },
   "source": [
    "<img src=\"images/svg_hello_world.png\" width=200>"
   ]
  },
  {
   "cell_type": "markdown",
   "metadata": {
    "collapsed": true,
    "slideshow": {
     "slide_type": "subslide"
    }
   },
   "source": [
    "### Planet Sizes with SVG\n",
    "---\n",
    "\n",
    "```js\n",
    "d3.select(\"h1\").text(\"Relative Planet Sizes in our Solar System ... and Pluto\")\n",
    "\n",
    "var data = [\n",
    "  {name: \"Mercury\", color: \"#839496\", radius: 1516},\n",
    "  {name: \"Venus\", color: \"#b58900\", radius: 3760},\n",
    "  {name: \"Earth\", color: \"#268bd2\", radius: 3963},\n",
    "  {name: \"Mars\", color: \"#dc322f\", radius: 2110},\n",
    "  {name: \"Jupiter\", color: \"#d33682\", radius: 44423},\n",
    "  {name: \"Saturn\", color: \"#b58900\", radius: 37449},\n",
    "  {name: \"Uranus\", color: \"#586e75 \", radius: 15882},\n",
    "  {name: \"Neptune\", color: \"#268bd2 \", radius: 15882},\n",
    "  {name: \"Pluto\", color: \"#b58900\", radius: 715},\n",
    "];\n",
    "```"
   ]
  },
  {
   "cell_type": "markdown",
   "metadata": {
    "collapsed": true,
    "slideshow": {
     "slide_type": "subslide"
    }
   },
   "source": [
    "Add SVG and dark background\n",
    "\n",
    "---\n",
    "\n",
    "```js\n",
    "d3.select(\"#chart\")\n",
    "    .append(\"svg\")\n",
    "      .attr({width: 640, height: 500})\n",
    "    .append(\"rect\")\n",
    "      .attr({\n",
    "        width: \"100%\", \n",
    "        height: \"100%\",\n",
    "        fill: \"#002b36\"\n",
    "      })\n",
    "```\n",
    "\n"
   ]
  },
  {
   "cell_type": "markdown",
   "metadata": {
    "collapsed": true,
    "slideshow": {
     "slide_type": "subslide"
    }
   },
   "source": [
    "Bind the data and create overlapping circles.\n",
    "\n",
    "---\n",
    "\n",
    "```js\n",
    "d3.select(\"svg\").selectAll(\"circle\")\n",
    ".data(data)\n",
    ".enter()\n",
    ".append(\"circle\")\n",
    "  .attr({\n",
    "    cx: 10,\n",
    "    cy: 10,\n",
    "    r: function(d) { \n",
    "        return d.radius/100 \n",
    "    },\n",
    "    fill: function (d) { \n",
    "        return d.color \n",
    "    }\n",
    "  })\n",
    "```\n",
    "\n"
   ]
  },
  {
   "cell_type": "markdown",
   "metadata": {
    "collapsed": true,
    "slideshow": {
     "slide_type": "subslide"
    }
   },
   "source": [
    "<img src=\"images/planet_sizes_1.png\" width=400>"
   ]
  },
  {
   "cell_type": "markdown",
   "metadata": {
    "collapsed": true,
    "slideshow": {
     "slide_type": "slide"
    }
   },
   "source": [
    "# Using Scales\n",
    "---\n",
    "\n",
    "- Scales are the D3 way to let the library calculate mappings between different domains and ranges.\n",
    "- Helps you dynamically layout elements in your SVG graphics.\n",
    "- Lets your visualization scale automatically to your dataset.\n",
    "\n",
    "API Reference: https://github.com/mbostock/d3/wiki/Scales"
   ]
  },
  {
   "cell_type": "markdown",
   "metadata": {
    "collapsed": true,
    "slideshow": {
     "slide_type": "subslide"
    }
   },
   "source": [
    "### Types of Scales\n",
    "---\n",
    "\n",
    "- Quantitative Scales - for continuous input domains, such as numbers.\n",
    "  - Good for gradients and interpolation between discrete points.\n",
    "- Ordinal Scales - for discrete input domains, such as names or categories.\n",
    "  - Good for dynamic positioning of elements.\n",
    "- Time Scales - for time domains.\n",
    "  - Good for time-series data, x-y plots. \n",
    "\n",
    "API Reference: https://github.com/mbostock/d3/wiki/Scales"
   ]
  },
  {
   "cell_type": "markdown",
   "metadata": {
    "collapsed": true,
    "slideshow": {
     "slide_type": "subslide"
    }
   },
   "source": [
    "### Ordinal Scales\n",
    "---\n",
    "\n",
    "- Think of as a mapping from one set of values to another.\n",
    "\n",
    "For example, planet names to radii:\n",
    "\n",
    "```js\n",
    "var scale = d3.scale.ordinal()\n",
    "    .domain([\"Earth\",\"Mars\",\"Jupiter\"])\n",
    "    .range([3963, 2110, 44423])\n",
    "\n",
    "console.log(scale(\"Earth\"));\n",
    "// Output: 3963\n",
    "```"
   ]
  },
  {
   "cell_type": "markdown",
   "metadata": {
    "collapsed": true,
    "slideshow": {
     "slide_type": "subslide"
    }
   },
   "source": [
    "###  Dynamic Positioning with Ordinal Scales\n",
    "---\n",
    "\n",
    "- Use the `.rangeBands` scale to create evenly-spaced discrete intervals\n",
    "\n",
    "<img src=\"images/d3_rangebands.png\">\n",
    "\n",
    "---\n",
    "https://github.com/mbostock/d3/wiki/Ordinal-Scales#ordinal_rangeBands"
   ]
  },
  {
   "cell_type": "markdown",
   "metadata": {
    "collapsed": true,
    "slideshow": {
     "slide_type": "subslide"
    }
   },
   "source": [
    "###  Planet sizes with Ordinal scale positioning\n",
    "---\n",
    "\n",
    "```js\n",
    "d3.select(\"h1\").text(\"Planets of our Solar System ...and Pluto\")\n",
    "\n",
    "var data = [\n",
    "  {name: \"Mercury\", color: \"#839496\", radius: 1516},\n",
    "  {name: \"Venus\", color: \"#b58900\", radius: 3760},\n",
    "  {name: \"Earth\", color: \"#268bd2\", radius: 3963},\n",
    "  {name: \"Mars\", color: \"#dc322f\", radius: 2110},\n",
    "  {name: \"Jupiter\", color: \"#d33682\", radius: 44423},\n",
    "  {name: \"Saturn\", color: \"#b58900\", radius: 37449},\n",
    "  {name: \"Uranus\", color: \"#586e75 \", radius: 15882},\n",
    "  {name: \"Neptune\", color: \"#268bd2 \", radius: 15882},\n",
    "  {name: \"Pluto\", color: \"#b58900\", radius: 715},\n",
    "]\n",
    "\n",
    "var w = 800,\n",
    "    h = 400;\n",
    "```"
   ]
  },
  {
   "cell_type": "markdown",
   "metadata": {
    "collapsed": true,
    "slideshow": {
     "slide_type": "subslide"
    }
   },
   "source": [
    "Create the ordinal scale\n",
    "\n",
    "---\n",
    "\n",
    "```js\n",
    "// Scale mapping position in data array to width of chart.\n",
    "var xScale = d3.scale.ordinal()\n",
    "    .domain(d3.range(data.length))\n",
    "    .rangeRoundBands([0, w], 0.3);\n",
    "```"
   ]
  },
  {
   "cell_type": "markdown",
   "metadata": {
    "collapsed": true,
    "slideshow": {
     "slide_type": "subslide"
    }
   },
   "source": [
    "SVG chart with dark background\n",
    "\n",
    "---\n",
    "\n",
    "```js\n",
    "d3.select(\"#chart\")\n",
    "    .append(\"svg\")\n",
    "      .attr({width: w, height: h})\n",
    "    .append(\"rect\")\n",
    "      .attr({width: \"100%\", height: \"100%\", fill: \"#002b36\"})\n",
    "```"
   ]
  },
  {
   "cell_type": "markdown",
   "metadata": {
    "collapsed": true,
    "slideshow": {
     "slide_type": "subslide"
    }
   },
   "source": [
    "Create circles using ordinal scale for positioning\n",
    "\n",
    "---\n",
    "\n",
    "```js\n",
    "d3.select(\"svg\").selectAll(\".planet\")\n",
    "    .data(data)\n",
    "    .enter().append(\"g\")\n",
    "    .classed(\"planet\", true)\n",
    "    .append(\"circle\")\n",
    "      .attr(\"cx\", function(d,i) { \n",
    "          return xScale(i);\n",
    "      })\n",
    "      .attr(\"cy\", (h/2))\n",
    "      .attr(\"r\", function(d) { \n",
    "          return d.radius/1000;\n",
    "      })\n",
    "      .attr(\"fill\", function (d) { \n",
    "          return d.color;\n",
    "      })\n",
    "```"
   ]
  },
  {
   "cell_type": "markdown",
   "metadata": {
    "collapsed": true,
    "slideshow": {
     "slide_type": "subslide"
    }
   },
   "source": [
    "\n",
    "<img src=\"images/planet_sizes_2.png\" width=400>"
   ]
  },
  {
   "cell_type": "markdown",
   "metadata": {
    "collapsed": true,
    "slideshow": {
     "slide_type": "subslide"
    }
   },
   "source": [
    "Add some text labels\n",
    "\n",
    "---\n",
    "\n",
    "```js\n",
    "d3.selectAll(\".planet\")\n",
    "  .append(\"text\")\n",
    "  .text(function(d) { return d.name})\n",
    "  .attr(\"fill\",\"white\")\n",
    "  .attr(\"font-family\", \"sans-serif\")\n",
    "  .attr(\"font-size\", \"18px\")\n",
    "  .attr(\"x\", function(d,i) { return xScale(i) - 20})\n",
    "  .attr(\"y\", (h/2 + 80))\n",
    "```\n",
    "\n",
    "---\n",
    "\n",
    "<img src=\"images/planet_sizes_3.png\" width=400>"
   ]
  },
  {
   "cell_type": "markdown",
   "metadata": {
    "collapsed": true,
    "slideshow": {
     "slide_type": "subslide"
    }
   },
   "source": [
    "# Events and Transitions\n",
    "---\n",
    "\n",
    "- Use events to add interactivity to visualizations.\n",
    "- D3 has methods to add events to keep everything in sync."
   ]
  },
  {
   "cell_type": "markdown",
   "metadata": {
    "collapsed": true,
    "slideshow": {
     "slide_type": "subslide"
    }
   },
   "source": [
    "### Add mouseover event\n",
    "---\n",
    "\n",
    "```js\n",
    ".on(\"mouseover\", function(d) {\n",
    "    d3.select(this)\n",
    "      .style(\"opacity\", 0.5);\n",
    "})\n",
    ".on(\"mouseout\", function(d) {\n",
    "    d3.select(this)\n",
    "      .style(\"opacity\", 1.0);\n",
    "})\n",
    "```\n",
    "\n",
    "---\n",
    "- Note that the data `d` is passed to the event handler, different compared to standard Javascript events."
   ]
  },
  {
   "cell_type": "markdown",
   "metadata": {
    "collapsed": true,
    "slideshow": {
     "slide_type": "subslide"
    }
   },
   "source": [
    "### Add transitions\n",
    "---\n",
    "\n",
    "Use a transition to animate the size of the circles.\n",
    "\n",
    "```js\n",
    ".transition()\n",
    "  .attr(\"r\", function(d) {\n",
    "    return d.radius/1000;\n",
    "  })\n",
    "  .duration(1400)\n",
    "  .ease(\"elastic\")\n",
    "```\n",
    "\n",
    "Another transition to animate the text.\n",
    "\n",
    "```js\n",
    ".transition()\n",
    "  .attr(\"font-size\", function(d) {\n",
    "    return 18;\n",
    "  })\n",
    "  .duration(400)\n",
    "```\n",
    "\n",
    "---\n",
    "\n",
    "- When using transitions, make sure to set the initial state when you create the element. In this case, `r` and `font-size` to 0\n"
   ]
  },
  {
   "cell_type": "markdown",
   "metadata": {
    "collapsed": true,
    "slideshow": {
     "slide_type": "slide"
    }
   },
   "source": [
    "# Working with Data\n",
    "---\n"
   ]
  },
  {
   "cell_type": "markdown",
   "metadata": {
    "collapsed": true,
    "slideshow": {
     "slide_type": "subslide"
    }
   },
   "source": [
    "### Reading Remote Data\n",
    "---\n",
    "\n",
    "D3 library handles AJAX calls to download and parse remote data from sources like CSV and JSON.\n",
    "\n",
    "Example datasets:\n",
    "\n",
    "- NASA Datasets: https://data.nasa.gov/\n",
    "- Mars Images: https://json.jpl.nasa.gov\n",
    "- NASA Open Data APIs: https://api.nasa.gov"
   ]
  },
  {
   "cell_type": "markdown",
   "metadata": {
    "collapsed": true,
    "slideshow": {
     "slide_type": "subslide"
    }
   },
   "source": [
    "### Near-Earth Comet Example\n",
    "---\n",
    "\n",
    "- D3 converts CSV to JSON objects keyed by the row header.\n",
    "- Dump the data from the callback to see its structure\n",
    "\n",
    "---\n",
    "\n",
    "```js\n",
    "// Near-Earth Comets - Orbital Elements: https://data.nasa.gov/Space-Science/Near-Earth-Comets-Orbital-Elements/b67r-rgxc\n",
    "\n",
    "// Terminology: \n",
    "// MOID: Minimum Orbit Intersection Distance\n",
    "// Node: Oribt angle of intersection\n",
    "\n",
    "d3.csv(\"https://data.nasa.gov/api/views/b67r-rgxc/rows.csv\", function(data) {\n",
    "  d3.select(\"body\").append(\"pre\").text(JSON.stringify(data, null, 2));\n",
    "})\n",
    "```\n"
   ]
  },
  {
   "cell_type": "markdown",
   "metadata": {
    "collapsed": true,
    "slideshow": {
     "slide_type": "subslide"
    }
   },
   "source": [
    "Data fetch and SVG setup.\n",
    "\n",
    "---\n",
    "\n",
    "```js\n",
    "d3.select(\"h1\").text(\"Near-Earth Comets\")\n",
    "d3.csv(\"https://data.nasa.gov/api/views/b67r-rgxc/rows.csv\", function(data) {\n",
    "  var w = 600,\n",
    "      h = 400;\n",
    "\n",
    "  d3.select(\"#chart\").append(\"svg\")\n",
    "    .attr({width: w, height: h})\n",
    "  .append(\"rect\")\n",
    "      .attr({width: \"100%\", height: \"100%\", fill: \"#002b36\"})\n",
    "  d3.select(\"svg\")\n",
    "  .append(\"circle\")\n",
    "    .attr({cx: w/2, cy: h/2, r: 50, fill: \"#268bd2\"})\n",
    "});\n",
    "```"
   ]
  },
  {
   "cell_type": "markdown",
   "metadata": {
    "collapsed": true,
    "slideshow": {
     "slide_type": "subslide"
    }
   },
   "source": [
    "Create the scales\n",
    "\n",
    "---\n",
    "\n",
    "```js\n",
    "\n",
    "// Copy MOIDs to array and convert to float.\n",
    "neo_moid = data.map(function(i) { return parseFloat(i[\"MOID (AU)\"]) })\n",
    "\n",
    "// Copy node intersection angles to array convert to float.\n",
    "neo_node = data.map(function(i) { return parseFloat(i[\"Node (deg)\"])})\n",
    "\n",
    "// Make scale to map moid distances to center circle.\n",
    "xScale = d3.scale.linear()\n",
    ".domain([d3.min(neo_moid), d3.max(neo_moid)])\n",
    ".rangeRound([0,150])\n",
    "\n",
    "// Make scale to map moid distances to color gradiant.\n",
    "colorScale = d3.scale.linear()\n",
    ".domain([0, d3.max(neo_moid)*.33, d3.max(neo_moid)*.66, d3.max(neo_moid)])\n",
    ".range(['#B58929','#C61C6F', '#268BD2', '#85992C'])\n",
    "```"
   ]
  },
  {
   "cell_type": "markdown",
   "metadata": {
    "collapsed": true,
    "slideshow": {
     "slide_type": "subslide"
    }
   },
   "source": [
    "Add circles for the Near-Earth objects\n",
    "\n",
    "---\n",
    "\n",
    "```js\n",
    "d3.select(\"svg\").selectAll(\".neo\")\n",
    "    .data(data)\n",
    "    .enter()\n",
    "    .append(\"circle\")\n",
    "      .attr(\"cx\", function(d) {\n",
    "        var mag = xScale(parseFloat(d[\"MOID (AU)\"])),\n",
    "            angle = parseFloat(d[\"Node (deg)\"]);\n",
    "        return ( (mag+55) * Math.cos(angle)) + w/2;\n",
    "      })\n",
    "      .attr(\"cy\", function(d) { \n",
    "        var mag = xScale(parseFloat(d[\"MOID (AU)\"])),\n",
    "            angle = parseFloat(d[\"Node (deg)\"]);\n",
    "        return ( (mag+55) * Math.sin(angle)) + h/2;\n",
    "      })\n",
    "      .attr(\"r\", 5)\n",
    "      .attr(\"fill\",function(d) { \n",
    "          return colorScale(parseFloat(d[\"MOID (AU)\"])) \n",
    "      })\n",
    "```"
   ]
  },
  {
   "cell_type": "markdown",
   "metadata": {
    "collapsed": true,
    "slideshow": {
     "slide_type": "subslide"
    }
   },
   "source": [
    "Add event to display lables.\n",
    "\n",
    "---\n",
    "\n",
    "```js\n",
    ".on(\"mouseover\", function(d) {\n",
    "    d3.select(\"svg\")\n",
    "      .append(\"text\")\n",
    "      .classed(\"neo-name\", true)\n",
    "      .text(function() { \n",
    "        var label = d[\"Object\"];\n",
    "        label += \": moid=\";\n",
    "        label += parseFloat(d[\"MOID (AU)\"]).toFixed(3) + \"(AU)\";\n",
    "        label += \", node=\" + parseFloat(d[\"Node (deg)\"]).toFixed(3) + \" (deg)\";\n",
    "        return label;\n",
    "      })\n",
    "      .attr(\"fill\",\"white\")\n",
    "      .attr(\"x\", 5)\n",
    "      .attr(\"y\", (h-5))\n",
    "})\n",
    ".on(\"mouseout\", function(d) { \n",
    "  d3.selectAll(\"svg .neo-name\").remove();\n",
    "})\n",
    "```"
   ]
  },
  {
   "cell_type": "markdown",
   "metadata": {
    "collapsed": true,
    "slideshow": {
     "slide_type": "subslide"
    }
   },
   "source": [
    "### Completed Example\n",
    "\n",
    "---\n",
    "\n",
    "```js\n",
    "// Near-Earth Comets - Orbital Elements: https://data.nasa.gov/Space-Science/Near-Earth-Comets-Orbital-Elements/b67r-rgxc\n",
    "\n",
    "// Terminology: \n",
    "// MOID: Minimum Orbit Intersection Distance\n",
    "// Node: Oribt angle of intersection\n",
    "\n",
    "d3.select(\"h1\").text(\"Near-Earth Comets\")\n",
    "d3.csv(\"https://data.nasa.gov/api/views/b67r-rgxc/rows.csv\", function(data) {\n",
    "  var w = 600,\n",
    "      h = 400;\n",
    "  \n",
    "  // Copy MOIDs to array and convert to float.\n",
    "  neo_moid = data.map(function(i) { return parseFloat(i[\"MOID (AU)\"]) })\n",
    "\n",
    "  // Copy node intersection angles to array convert to float.\n",
    "  neo_node = data.map(function(i) { return parseFloat(i[\"Node (deg)\"])})\n",
    "\n",
    "  // Make scale to map moid distances to center circle.\n",
    "  xScale = d3.scale.linear()\n",
    "    .domain([d3.min(neo_moid), d3.max(neo_moid)])\n",
    "    .rangeRound([0,150])\n",
    "\n",
    "  // Make scale to map moid distances to color gradiant.\n",
    "  colorScale = d3.scale.linear()\n",
    "    .domain([0, d3.max(neo_moid)*.33, d3.max(neo_moid)*.66, d3.max(neo_moid)])\n",
    "    .range(['#B58929','#C61C6F', '#268BD2', '#85992C'])\n",
    "\n",
    "  d3.select(\"#chart\").append(\"svg\")\n",
    "    .attr({width: w, height: h})\n",
    "  .append(\"rect\")\n",
    "      .attr({width: \"100%\", height: \"100%\", fill: \"#002b36\"})\n",
    "  d3.select(\"svg\")\n",
    "  .append(\"circle\")\n",
    "    .attr({cx: w/2, cy: h/2, r: 50, fill: \"#268bd2\"})\n",
    "  \n",
    "  d3.select(\"svg\").selectAll(\".neo\")\n",
    "    .data(data)\n",
    "    .enter()\n",
    "    .append(\"circle\")\n",
    "      .attr(\"cx\", function(d) {\n",
    "        var mag = xScale(parseFloat(d[\"MOID (AU)\"])),\n",
    "            angle = parseFloat(d[\"Node (deg)\"]);\n",
    "        return ( (mag+55) * Math.cos(angle)) + w/2;\n",
    "      })\n",
    "      .attr(\"cy\", function(d) { \n",
    "        var mag = xScale(parseFloat(d[\"MOID (AU)\"])),\n",
    "            angle = parseFloat(d[\"Node (deg)\"]);\n",
    "        return ( (mag+55) * Math.sin(angle)) + h/2;\n",
    "      })\n",
    "      .attr(\"r\", 5)\n",
    "      .attr(\"fill\",function(d) { \n",
    "          return colorScale(parseFloat(d[\"MOID (AU)\"])) \n",
    "      })\n",
    "  \n",
    "      .on(\"mouseover\", function(d) {\n",
    "          d3.select(\"svg\")\n",
    "          .append(\"text\")\n",
    "          .classed(\"neo-name\", true)\n",
    "          .text(function() { \n",
    "            var label = d[\"Object\"];\n",
    "            label += \": moid=\";\n",
    "            label += parseFloat(d[\"MOID (AU)\"]).toFixed(3) + \"(AU)\";\n",
    "            label += \", node=\" + parseFloat(d[\"Node (deg)\"]).toFixed(3) + \" (deg)\";\n",
    "            return label;\n",
    "          })\n",
    "          .attr(\"fill\",\"white\")\n",
    "          .attr(\"x\", 5)\n",
    "          .attr(\"y\", (h-5))\n",
    "       })\n",
    "     .on(\"mouseout\", function(d) { \n",
    "          d3.selectAll(\"svg .neo-name\").remove();\n",
    "     })\n",
    "});\n",
    "```\n",
    "\n",
    "---\n",
    "\n",
    "<img src=\"images/neo_1.png\" width=\"400\">\n"
   ]
  },
  {
   "cell_type": "markdown",
   "metadata": {
    "collapsed": true,
    "slideshow": {
     "slide_type": "subslide"
    }
   },
   "source": [
    "### Mars Images Example\n",
    "---\n",
    "\n",
    "```js\n",
    "// Mars Image Database - https://msl-raws.s3.amazonaws.com/images/image_manifest.json\n",
    "d3.csv(\"https://msl-raws.s3.amazonaws.com/images/image_manifest.json\", function(data) {\n",
    "  d3.select(\"body\").append(\"pre\").text(JSON.stringify(data, null, 2));\n",
    "})\n",
    "```\n"
   ]
  },
  {
   "cell_type": "markdown",
   "metadata": {
    "collapsed": true,
    "slideshow": {
     "slide_type": "slide"
    }
   },
   "source": [
    "# Using Layouts\n",
    "---\n"
   ]
  },
  {
   "cell_type": "markdown",
   "metadata": {
    "collapsed": true,
    "slideshow": {
     "slide_type": "subslide"
    }
   },
   "source": [
    "### D3 Layouts\n",
    "---\n",
    "  \n",
    "- Programatically layout elements using provided library functions.\n",
    "- Higher-level abstraction of common visualization components. \n",
    "- Pie charts, force charts, histograms etc.\n",
    "\n",
    "https://github.com/mbostock/d3/wiki/Layouts\n"
   ]
  },
  {
   "cell_type": "markdown",
   "metadata": {
    "collapsed": true,
    "slideshow": {
     "slide_type": "subslide"
    }
   },
   "source": [
    "### Force Chart Example\n",
    "---\n",
    "\n",
    "```js\n",
    "var force = d3.layout.force()\n",
    "    .nodes(nodes)\n",
    "    .links(links)\n",
    "    .size([w, h])\n",
    "    .linkStrength(0.1)\n",
    "    .friction(0.9)\n",
    "    .linkDistance(20)\n",
    "    .charge(-30)\n",
    "    .gravity(0.1)\n",
    "    .theta(0.8)\n",
    "    .alpha(0.1)\n",
    "    .start();\n",
    "```\n",
    "\n",
    "---\n",
    "- Layout is aware of the nodes and links and uses the given parameters to update it on every `tick` event.\n",
    "- You still add your elements and style them as usual, layout will perform the translations and positioning for you.\n",
    "- Overview of various force layout capabilities: http://mbostock.github.io/d3/talk/20110921/#26\n"
   ]
  },
  {
   "cell_type": "markdown",
   "metadata": {
    "collapsed": true,
    "slideshow": {
     "slide_type": "subslide"
    }
   },
   "source": [
    "### Complete Example\n",
    "---\n",
    "\n",
    "```js\n",
    "var   w = 400,\n",
    "      h = 400;\n",
    "\n",
    "var circleWidth = 5;\n",
    "\n",
    "var palette = {\n",
    "      \"lightgray\": \"#819090\",\n",
    "      \"gray\": \"#708284\",\n",
    "      \"mediumgray\": \"#536870\",\n",
    "      \"darkgray\": \"#475B62\",\n",
    "\n",
    "      \"darkblue\": \"#0A2933\",\n",
    "      \"darkerblue\": \"#042029\",\n",
    "\n",
    "      \"paleryellow\": \"#FCF4DC\",\n",
    "      \"paleyellow\": \"#EAE3CB\",\n",
    "      \"yellow\": \"#A57706\",\n",
    "      \"orange\": \"#BD3613\",\n",
    "      \"red\": \"#D11C24\",\n",
    "      \"pink\": \"#C61C6F\",\n",
    "      \"purple\": \"#595AB7\",\n",
    "      \"blue\": \"#2176C7\",\n",
    "      \"green\": \"#259286\",\n",
    "      \"yellowgreen\": \"#738A05\"\n",
    "  }\n",
    "\n",
    "var nodes = [\n",
    "      { name: \"Parent\"},\n",
    "      { name: \"child1\"},\n",
    "      { name: \"child2\", target: [0]},\n",
    "      { name: \"child3\", target: [0]},\n",
    "      { name: \"child4\", target: [1]},\n",
    "      { name: \"child5\", target: [0, 1, 2, 3]}\n",
    "];\n",
    "\n",
    "var links = [];\n",
    "\n",
    "for (var i = 0; i< nodes.length; i++) {\n",
    "      if (nodes[i].target !== undefined) {\n",
    "            for (var x = 0; x< nodes[i].target.length; x++ ) {\n",
    "                  links.push({\n",
    "                        source: nodes[i],\n",
    "                        target: nodes[nodes[i].target[x]]\n",
    "                  })\n",
    "            }\n",
    "      }\n",
    "}\n",
    "\n",
    "var myChart = d3.select('#chart')\n",
    "\t\t.append('svg')\n",
    "\t\t.attr('width', w)\n",
    "\t\t.attr('height', h)\n",
    "\n",
    "var force = d3.layout.force()\n",
    "\t.nodes(nodes)\n",
    "\t.links([])\n",
    "\t.gravity(0.3)\n",
    "\t.charge(-1000)\n",
    "\t.size([w, h])\n",
    "\n",
    "var link = myChart.selectAll('line')\n",
    "\t.data(links).enter().append('line')\n",
    "\t.attr('stroke', palette.gray)\n",
    "\n",
    "var node = myChart.selectAll('circle')\n",
    "\t.data(nodes).enter()\n",
    "\t.append('g')\n",
    "\t.call(force.drag);\n",
    "\n",
    "node.append('circle')\n",
    "\t.attr('cx', function(d) { return d.x; })\n",
    "\t.attr('cy', function(d) { return d.y; })\n",
    "\t.attr('r', circleWidth )\n",
    "\t.attr('fill', function(d, i) {\n",
    "\t\tif (i>0) { return palette.pink }\n",
    "\t\telse { return palette.blue }\n",
    "\t})\n",
    "\n",
    "node.append('text')\n",
    "\t.text(function(d) { return d.name})\n",
    "\t.attr('font-family', 'Roboto Slab')\n",
    "\t.attr('fill', function(d, i) {\n",
    "\t\tif (i>0) { return palette.mediumgray}\n",
    "\t\telse { return palette.yellowgreen}\n",
    "\t})\n",
    "\t.attr('x', function(d, i) {\n",
    "\t\tif (i>0) { return circleWidth + 4 }\n",
    "\t\telse { return circleWidth -15 }\n",
    "\t})\n",
    "\t.attr('y', function(d, i) {\n",
    "\t\tif (i>0) { return circleWidth }\n",
    "\t\telse { return 8 }\n",
    "\t})\n",
    "\t.attr('text-anchor', function(d, i) {\n",
    "\t\tif (i>0) { return 'beginning' }\n",
    "\t\telse { return 'end'}\n",
    "\t})\n",
    "\t.attr('font-size',  function(d, i) {\n",
    "\t\tif (i>0) { return '1em' }\n",
    "\t\telse { return '1.8em'}\n",
    "\t})\n",
    "\n",
    "force.on('tick', function(e) {\n",
    "\tnode.attr('transform', function(d, i) {\n",
    "\t\treturn 'translate('+ d.x +', '+ d.y +')';\n",
    "\t})\n",
    "\n",
    "\tlink\n",
    "\t\t.attr('x1', function(d) { return d.source.x })\n",
    "\t\t.attr('y1', function(d) { return d.source.y })\n",
    "\t\t.attr('x2', function(d) { return d.target.x })\n",
    "\t\t.attr('y2', function(d) { return d.target.y })\n",
    "})\n",
    "\n",
    "\n",
    "force.start();\n",
    "```\n",
    "\n",
    "---\n",
    "Overview of capabilities: http://mbostock.github.io/d3/talk/20110921/#26\n"
   ]
  },
  {
   "cell_type": "markdown",
   "metadata": {
    "collapsed": true,
    "slideshow": {
     "slide_type": "subslide"
    }
   },
   "source": [
    "### Additional Resources\n",
    "---\n",
    "\n",
    "Gallery: https://github.com/mbostock/d3/wiki/Gallery\n",
    "\n",
    "<img src=\"images/d3_gallery_index.png\" width=500>\n",
    "\n",
    "---\n",
    "\n",
    "Another space vis: http://joshworth.com/dev/pixelspace/pixelspace_solarsystem.html"
   ]
  }
 ],
 "metadata": {
  "celltoolbar": "Slideshow",
  "kernelspec": {
   "display_name": "Python 2",
   "language": "python",
   "name": "python2"
  },
  "language_info": {
   "codemirror_mode": {
    "name": "ipython",
    "version": 2
   },
   "file_extension": ".py",
   "mimetype": "text/x-python",
   "name": "python",
   "nbconvert_exporter": "python",
   "pygments_lexer": "ipython2",
   "version": "2.7.9"
  }
 },
 "nbformat": 4,
 "nbformat_minor": 0
}
